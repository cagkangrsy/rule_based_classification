{
 "cells": [
  {
   "cell_type": "markdown",
   "id": "8aa4a4e2",
   "metadata": {
    "_cell_guid": "b1076dfc-b9ad-4769-8c92-a6c4dae69d19",
    "_uuid": "8f2839f25d086af736a60e9eeb907d3b93b6e0e5",
    "papermill": {
     "duration": 0.006181,
     "end_time": "2023-04-20T20:32:25.820248",
     "exception": false,
     "start_time": "2023-04-20T20:32:25.814067",
     "status": "completed"
    },
    "tags": []
   },
   "source": [
    "# Potential Customer Revenue Calculation with Rule Based Classification"
   ]
  },
  {
   "cell_type": "markdown",
   "id": "94ec9d62",
   "metadata": {
    "papermill": {
     "duration": 0.004488,
     "end_time": "2023-04-20T20:32:25.829763",
     "exception": false,
     "start_time": "2023-04-20T20:32:25.825275",
     "status": "completed"
    },
    "tags": []
   },
   "source": [
    "## Problem\n",
    "A game company wants to create new level based customer definitions using some attributes of the customers and they want to \n",
    "create segments by using the new definitions to finally estimate how much profit can a newcustomer bring to the company when\n",
    "compared to these segments. \n",
    "\n",
    "Example: How much profit can the company earn on a 25 year old male iOS user from Turkey?"
   ]
  },
  {
   "cell_type": "markdown",
   "id": "0fc3d5f6",
   "metadata": {
    "papermill": {
     "duration": 0.004402,
     "end_time": "2023-04-20T20:32:25.838813",
     "exception": false,
     "start_time": "2023-04-20T20:32:25.834411",
     "status": "completed"
    },
    "tags": []
   },
   "source": [
    "## Dataset Summary\n",
    "Persona.csv dataset contains the product prices of an international game company and demographic information of the customers.\n",
    "The dataset is comprised of each transaction record which implies that the dataset is not singularized. In another words, \n",
    "a customer with certain demographic information could have more than 1 transaction.\n",
    "\n",
    "**Price**: Customer's Payment \\\n",
    "**Source:** Customer's Device Type \\\n",
    "**Sex:** Customer's Sex \\\n",
    "**Country:** Customer's Country \\\n",
    "**Age:** Customer's Age"
   ]
  },
  {
   "cell_type": "code",
   "execution_count": 1,
   "id": "989b71aa",
   "metadata": {
    "execution": {
     "iopub.execute_input": "2023-04-20T20:32:25.850173Z",
     "iopub.status.busy": "2023-04-20T20:32:25.849662Z",
     "iopub.status.idle": "2023-04-20T20:32:27.172846Z",
     "shell.execute_reply": "2023-04-20T20:32:27.171314Z"
    },
    "papermill": {
     "duration": 1.333634,
     "end_time": "2023-04-20T20:32:27.176958",
     "exception": false,
     "start_time": "2023-04-20T20:32:25.843324",
     "status": "completed"
    },
    "tags": []
   },
   "outputs": [],
   "source": [
    "import numpy as np\n",
    "import pandas as pd\n",
    "import seaborn as sns\n",
    "import matplotlib.pyplot as plt"
   ]
  },
  {
   "cell_type": "code",
   "execution_count": 2,
   "id": "3dd7894a",
   "metadata": {
    "execution": {
     "iopub.execute_input": "2023-04-20T20:32:27.190063Z",
     "iopub.status.busy": "2023-04-20T20:32:27.188605Z",
     "iopub.status.idle": "2023-04-20T20:32:27.216243Z",
     "shell.execute_reply": "2023-04-20T20:32:27.214777Z"
    },
    "papermill": {
     "duration": 0.037768,
     "end_time": "2023-04-20T20:32:27.219698",
     "exception": false,
     "start_time": "2023-04-20T20:32:27.181930",
     "status": "completed"
    },
    "tags": []
   },
   "outputs": [],
   "source": [
    "df = pd.read_csv(\"../input/persona/persona.csv\")"
   ]
  },
  {
   "cell_type": "code",
   "execution_count": 3,
   "id": "ddbccf10",
   "metadata": {
    "execution": {
     "iopub.execute_input": "2023-04-20T20:32:27.232477Z",
     "iopub.status.busy": "2023-04-20T20:32:27.231933Z",
     "iopub.status.idle": "2023-04-20T20:32:27.290053Z",
     "shell.execute_reply": "2023-04-20T20:32:27.288077Z"
    },
    "papermill": {
     "duration": 0.068365,
     "end_time": "2023-04-20T20:32:27.293454",
     "exception": false,
     "start_time": "2023-04-20T20:32:27.225089",
     "status": "completed"
    },
    "tags": []
   },
   "outputs": [
    {
     "name": "stdout",
     "output_type": "stream",
     "text": [
      "--- Shape--- \n",
      "(5000, 5)\n",
      "--- Data Types ---\n",
      "PRICE       int64\n",
      "SOURCE     object\n",
      "SEX        object\n",
      "COUNTRY    object\n",
      "AGE         int64\n",
      "dtype: object\n",
      "--- Head ---\n",
      "   PRICE   SOURCE   SEX COUNTRY  AGE\n",
      "0     39  android  male     bra   17\n",
      "1     39  android  male     bra   17\n",
      "2     49  android  male     bra   17\n",
      "3     29  android  male     tur   17\n",
      "4     49  android  male     tur   17\n",
      "--- Tail ---\n",
      "      PRICE   SOURCE     SEX COUNTRY  AGE\n",
      "4995     29  android  female     bra   31\n",
      "4996     29  android  female     bra   31\n",
      "4997     29  android  female     bra   31\n",
      "4998     39  android  female     bra   31\n",
      "4999     29  android  female     bra   31\n",
      "--- Unique Values ---\n",
      "PRICE 6\n",
      "SOURCE 2\n",
      "SEX 2\n",
      "COUNTRY 6\n",
      "AGE 46\n",
      "      PRICE   SOURCE     SEX COUNTRY  AGE\n",
      "4995     29  android  female     bra   31\n",
      "4996     29  android  female     bra   31\n",
      "4997     29  android  female     bra   31\n",
      "4998     39  android  female     bra   31\n",
      "4999     29  android  female     bra   31\n",
      "--- Null Value ---\n",
      "PRICE      0\n",
      "SOURCE     0\n",
      "SEX        0\n",
      "COUNTRY    0\n",
      "AGE        0\n",
      "dtype: int64\n",
      "--- Quantiles ---\n",
      "        count     mean        std   min   25%   50%   75%   max\n",
      "PRICE  5000.0  34.1320  12.464897   9.0  29.0  39.0  39.0  59.0\n",
      "AGE    5000.0  23.5814   8.995908  15.0  17.0  21.0  27.0  66.0\n"
     ]
    }
   ],
   "source": [
    "# A function is written to examine the general shape of the dataset\n",
    "def general_info (dataframe, row_count = 5):\n",
    "    print(\"--- Shape--- \")\n",
    "    print(dataframe.shape)\n",
    "    print(\"--- Data Types ---\")\n",
    "    print(dataframe.dtypes)\n",
    "    print(\"--- Head ---\")\n",
    "    print(dataframe.head(row_count))\n",
    "    print(\"--- Tail ---\")\n",
    "    print(dataframe.tail(row_count))\n",
    "    print(\"--- Unique Values ---\")\n",
    "    for col in df.columns:\n",
    "        print(col, df[col].nunique())\n",
    "    print(dataframe.tail(row_count))\n",
    "    print(\"--- Null Value ---\")\n",
    "    print(dataframe.isnull().sum())\n",
    "    print(\"--- Quantiles ---\")\n",
    "    print(dataframe.describe().T)\n",
    "\n",
    "general_info(df)"
   ]
  },
  {
   "cell_type": "code",
   "execution_count": 4,
   "id": "9a04cde6",
   "metadata": {
    "execution": {
     "iopub.execute_input": "2023-04-20T20:32:27.306380Z",
     "iopub.status.busy": "2023-04-20T20:32:27.305854Z",
     "iopub.status.idle": "2023-04-20T20:32:27.325563Z",
     "shell.execute_reply": "2023-04-20T20:32:27.323922Z"
    },
    "papermill": {
     "duration": 0.029604,
     "end_time": "2023-04-20T20:32:27.328421",
     "exception": false,
     "start_time": "2023-04-20T20:32:27.298817",
     "status": "completed"
    },
    "tags": []
   },
   "outputs": [
    {
     "name": "stdout",
     "output_type": "stream",
     "text": [
      "Observations: 5000\n",
      "Variables: 5\n",
      "cat_cols: 3\n",
      "num_cols: 2\n",
      "cat_but_car: 0\n",
      "num_but_cat: 0\n"
     ]
    }
   ],
   "source": [
    "\"\"\"\n",
    "The dataset variables are examined to ensure their data types. Some numerical variables can be treated as categorical if they have low unique value counts and similarly some categorical variables can\n",
    "have high unique value counts so they are treated as cardinal variables. For this application variable_catcher function is written.\n",
    "\"\"\"\n",
    "def variable_catcher(dataframe, cat_threshold = 5, car_threshold = 20):\n",
    "    \n",
    "    # To catch categorical variables\n",
    "    cat_cols = [col for col in dataframe.columns if str(dataframe[col].dtype) in [\"object\",\"category\",\"bool\"]]\n",
    "    num_but_cat = [col for col in dataframe.columns if dataframe[col].nunique() < cat_threshold and \n",
    "                   str(dataframe[col].dtype) in [\"int64\",\"float64\"]]\n",
    "    cat_but_car = [col for col in dataframe.columns if dataframe[col].nunique() > car_threshold and \n",
    "                   str(dataframe[col].dtype) in [\"object\",\"category\"]]\n",
    "    cat_cols = cat_cols + num_but_cat\n",
    "    cat_cols = [col for col in cat_cols if col not in cat_but_car]\n",
    "    \n",
    "    # To catch numerical variables\n",
    "    num_cols = [col for col in dataframe.columns if dataframe[col].dtype in [\"int64\", \"float64\"]]\n",
    "    num_cols = [col for col in num_cols if col not in cat_cols]\n",
    "    \n",
    "    print(f\"Observations: {dataframe.shape[0]}\")\n",
    "    print(f\"Variables: {dataframe.shape[1]}\")\n",
    "    print(f'cat_cols: {len(cat_cols)}')\n",
    "    print(f'num_cols: {len(num_cols)}')\n",
    "    print(f'cat_but_car: {len(cat_but_car)}')\n",
    "    print(f'num_but_cat: {len(num_but_cat)}')\n",
    "    \n",
    "    return cat_cols, num_cols, cat_but_car\n",
    "\n",
    "\n",
    "cat_cols, num_cols, cat_but_car = variable_catcher(df)"
   ]
  },
  {
   "cell_type": "code",
   "execution_count": 5,
   "id": "489bb8fe",
   "metadata": {
    "execution": {
     "iopub.execute_input": "2023-04-20T20:32:27.341586Z",
     "iopub.status.busy": "2023-04-20T20:32:27.339976Z",
     "iopub.status.idle": "2023-04-20T20:32:27.363582Z",
     "shell.execute_reply": "2023-04-20T20:32:27.361351Z"
    },
    "papermill": {
     "duration": 0.03317,
     "end_time": "2023-04-20T20:32:27.366666",
     "exception": false,
     "start_time": "2023-04-20T20:32:27.333496",
     "status": "completed"
    },
    "tags": []
   },
   "outputs": [
    {
     "name": "stdout",
     "output_type": "stream",
     "text": [
      "         SOURCE  Ratio\n",
      "android    2974  59.48\n",
      "ios        2026  40.52\n",
      "##########################################\n",
      "         SEX  Ratio\n",
      "female  2621  52.42\n",
      "male    2379  47.58\n",
      "##########################################\n",
      "     COUNTRY  Ratio\n",
      "usa     2065  41.30\n",
      "bra     1496  29.92\n",
      "deu      455   9.10\n",
      "tur      451   9.02\n",
      "fra      303   6.06\n",
      "can      230   4.60\n",
      "##########################################\n"
     ]
    }
   ],
   "source": [
    "# cat_summary function summarizes categorical variables by their frequency and percentages.\n",
    "def cat_summary(dataframe, col_name):\n",
    "    print(pd.DataFrame({col_name: dataframe[col_name].value_counts(),\n",
    "                        \"Ratio\": 100 * dataframe[col_name].value_counts() / len(dataframe)}))\n",
    "    print(\"##########################################\")\n",
    "\n",
    "for col in cat_cols:\n",
    "    cat_summary(df, col)"
   ]
  },
  {
   "cell_type": "code",
   "execution_count": 6,
   "id": "34e082ae",
   "metadata": {
    "execution": {
     "iopub.execute_input": "2023-04-20T20:32:27.378827Z",
     "iopub.status.busy": "2023-04-20T20:32:27.378345Z",
     "iopub.status.idle": "2023-04-20T20:32:27.879775Z",
     "shell.execute_reply": "2023-04-20T20:32:27.878482Z"
    },
    "papermill": {
     "duration": 0.510555,
     "end_time": "2023-04-20T20:32:27.882284",
     "exception": false,
     "start_time": "2023-04-20T20:32:27.371729",
     "status": "completed"
    },
    "tags": []
   },
   "outputs": [
    {
     "name": "stdout",
     "output_type": "stream",
     "text": [
      "count    5000.000000\n",
      "mean       34.132000\n",
      "std        12.464897\n",
      "min         9.000000\n",
      "25%        29.000000\n",
      "50%        39.000000\n",
      "75%        39.000000\n",
      "100%       59.000000\n",
      "max        59.000000\n",
      "Name: PRICE, dtype: float64\n"
     ]
    },
    {
     "data": {
      "image/png": "[encoded data removed]",
      "text/plain": [
       "<Figure size 432x288 with 1 Axes>"
      ]
     },
     "metadata": {
      "needs_background": "light"
     },
     "output_type": "display_data"
    },
    {
     "name": "stdout",
     "output_type": "stream",
     "text": [
      "count    5000.000000\n",
      "mean       23.581400\n",
      "std         8.995908\n",
      "min        15.000000\n",
      "25%        17.000000\n",
      "50%        21.000000\n",
      "75%        27.000000\n",
      "100%       66.000000\n",
      "max        66.000000\n",
      "Name: AGE, dtype: float64\n"
     ]
    },
    {
     "data": {
      "image/png": "[encoded data removed]",
      "text/plain": [
       "<Figure size 432x288 with 1 Axes>"
      ]
     },
     "metadata": {
      "needs_background": "light"
     },
     "output_type": "display_data"
    }
   ],
   "source": [
    "# num_summary function summarizes numerical variables by their statistical attributes \n",
    "def num_summary(dataframe, numerical_col, plot=False):\n",
    "    quantiles = [0.25, 0.5, 0.75, 1]\n",
    "    print(dataframe[numerical_col].describe(quantiles).T)\n",
    "    \n",
    "    # To get histogram plots of the variables\n",
    "    if plot:\n",
    "        dataframe[numerical_col].hist()\n",
    "        plt.xlabel(numerical_col)\n",
    "        plt.title(numerical_col)\n",
    "        plt.show(block=True)\n",
    "        \n",
    "for col in num_cols:\n",
    "    num_summary(df, col, plot=True)"
   ]
  },
  {
   "cell_type": "code",
   "execution_count": 7,
   "id": "3a56e48f",
   "metadata": {
    "execution": {
     "iopub.execute_input": "2023-04-20T20:32:27.895303Z",
     "iopub.status.busy": "2023-04-20T20:32:27.894847Z",
     "iopub.status.idle": "2023-04-20T20:32:27.919682Z",
     "shell.execute_reply": "2023-04-20T20:32:27.918799Z"
    },
    "papermill": {
     "duration": 0.034066,
     "end_time": "2023-04-20T20:32:27.921836",
     "exception": false,
     "start_time": "2023-04-20T20:32:27.887770",
     "status": "completed"
    },
    "tags": []
   },
   "outputs": [
    {
     "data": {
      "text/html": [
       "<div>\n",
       "<style scoped>\n",
       "    .dataframe tbody tr th:only-of-type {\n",
       "        vertical-align: middle;\n",
       "    }\n",
       "\n",
       "    .dataframe tbody tr th {\n",
       "        vertical-align: top;\n",
       "    }\n",
       "\n",
       "    .dataframe thead th {\n",
       "        text-align: right;\n",
       "    }\n",
       "</style>\n",
       "<table border=\"1\" class=\"dataframe\">\n",
       "  <thead>\n",
       "    <tr style=\"text-align: right;\">\n",
       "      <th></th>\n",
       "      <th></th>\n",
       "      <th></th>\n",
       "      <th></th>\n",
       "      <th>PRICE</th>\n",
       "    </tr>\n",
       "    <tr>\n",
       "      <th>COUNTRY</th>\n",
       "      <th>SOURCE</th>\n",
       "      <th>SEX</th>\n",
       "      <th>AGE</th>\n",
       "      <th></th>\n",
       "    </tr>\n",
       "  </thead>\n",
       "  <tbody>\n",
       "    <tr>\n",
       "      <th>bra</th>\n",
       "      <th>android</th>\n",
       "      <th>male</th>\n",
       "      <th>46</th>\n",
       "      <td>59.0</td>\n",
       "    </tr>\n",
       "    <tr>\n",
       "      <th>usa</th>\n",
       "      <th>android</th>\n",
       "      <th>male</th>\n",
       "      <th>36</th>\n",
       "      <td>59.0</td>\n",
       "    </tr>\n",
       "    <tr>\n",
       "      <th>fra</th>\n",
       "      <th>android</th>\n",
       "      <th>female</th>\n",
       "      <th>24</th>\n",
       "      <td>59.0</td>\n",
       "    </tr>\n",
       "    <tr>\n",
       "      <th>usa</th>\n",
       "      <th>ios</th>\n",
       "      <th>male</th>\n",
       "      <th>32</th>\n",
       "      <td>54.0</td>\n",
       "    </tr>\n",
       "    <tr>\n",
       "      <th>deu</th>\n",
       "      <th>android</th>\n",
       "      <th>female</th>\n",
       "      <th>36</th>\n",
       "      <td>49.0</td>\n",
       "    </tr>\n",
       "  </tbody>\n",
       "</table>\n",
       "</div>"
      ],
      "text/plain": [
       "                            PRICE\n",
       "COUNTRY SOURCE  SEX    AGE       \n",
       "bra     android male   46    59.0\n",
       "usa     android male   36    59.0\n",
       "fra     android female 24    59.0\n",
       "usa     ios     male   32    54.0\n",
       "deu     android female 36    49.0"
      ]
     },
     "execution_count": 7,
     "metadata": {},
     "output_type": "execute_result"
    }
   ],
   "source": [
    "# An aggregated dataframe is created that shows mean price values grouped by (\"COUNTRY\",\"SOURCE\",\"SEX\",\"AGE\") variables.\n",
    "agg_df = df.groupby([\"COUNTRY\",\"SOURCE\",\"SEX\",\"AGE\"]).agg({\"PRICE\": \"mean\"}).sort_values(by= \"PRICE\", ascending=False)\n",
    "agg_df.head()"
   ]
  },
  {
   "cell_type": "code",
   "execution_count": 8,
   "id": "d6710bd2",
   "metadata": {
    "execution": {
     "iopub.execute_input": "2023-04-20T20:32:27.935279Z",
     "iopub.status.busy": "2023-04-20T20:32:27.934308Z",
     "iopub.status.idle": "2023-04-20T20:32:27.951058Z",
     "shell.execute_reply": "2023-04-20T20:32:27.949902Z"
    },
    "papermill": {
     "duration": 0.025845,
     "end_time": "2023-04-20T20:32:27.953325",
     "exception": false,
     "start_time": "2023-04-20T20:32:27.927480",
     "status": "completed"
    },
    "tags": []
   },
   "outputs": [
    {
     "data": {
      "text/html": [
       "<div>\n",
       "<style scoped>\n",
       "    .dataframe tbody tr th:only-of-type {\n",
       "        vertical-align: middle;\n",
       "    }\n",
       "\n",
       "    .dataframe tbody tr th {\n",
       "        vertical-align: top;\n",
       "    }\n",
       "\n",
       "    .dataframe thead th {\n",
       "        text-align: right;\n",
       "    }\n",
       "</style>\n",
       "<table border=\"1\" class=\"dataframe\">\n",
       "  <thead>\n",
       "    <tr style=\"text-align: right;\">\n",
       "      <th></th>\n",
       "      <th>COUNTRY</th>\n",
       "      <th>SOURCE</th>\n",
       "      <th>SEX</th>\n",
       "      <th>AGE</th>\n",
       "      <th>PRICE</th>\n",
       "    </tr>\n",
       "  </thead>\n",
       "  <tbody>\n",
       "    <tr>\n",
       "      <th>0</th>\n",
       "      <td>bra</td>\n",
       "      <td>android</td>\n",
       "      <td>male</td>\n",
       "      <td>46</td>\n",
       "      <td>59.0</td>\n",
       "    </tr>\n",
       "    <tr>\n",
       "      <th>1</th>\n",
       "      <td>usa</td>\n",
       "      <td>android</td>\n",
       "      <td>male</td>\n",
       "      <td>36</td>\n",
       "      <td>59.0</td>\n",
       "    </tr>\n",
       "    <tr>\n",
       "      <th>2</th>\n",
       "      <td>fra</td>\n",
       "      <td>android</td>\n",
       "      <td>female</td>\n",
       "      <td>24</td>\n",
       "      <td>59.0</td>\n",
       "    </tr>\n",
       "    <tr>\n",
       "      <th>3</th>\n",
       "      <td>usa</td>\n",
       "      <td>ios</td>\n",
       "      <td>male</td>\n",
       "      <td>32</td>\n",
       "      <td>54.0</td>\n",
       "    </tr>\n",
       "    <tr>\n",
       "      <th>4</th>\n",
       "      <td>deu</td>\n",
       "      <td>android</td>\n",
       "      <td>female</td>\n",
       "      <td>36</td>\n",
       "      <td>49.0</td>\n",
       "    </tr>\n",
       "  </tbody>\n",
       "</table>\n",
       "</div>"
      ],
      "text/plain": [
       "  COUNTRY   SOURCE     SEX  AGE  PRICE\n",
       "0     bra  android    male   46   59.0\n",
       "1     usa  android    male   36   59.0\n",
       "2     fra  android  female   24   59.0\n",
       "3     usa      ios    male   32   54.0\n",
       "4     deu  android  female   36   49.0"
      ]
     },
     "execution_count": 8,
     "metadata": {},
     "output_type": "execute_result"
    }
   ],
   "source": [
    "# Reseting the index values since the variables except \"PRICE\" are all index names \n",
    "agg_df.reset_index(inplace=True)\n",
    "agg_df.head()"
   ]
  },
  {
   "cell_type": "code",
   "execution_count": 9,
   "id": "2996fb45",
   "metadata": {
    "execution": {
     "iopub.execute_input": "2023-04-20T20:32:27.966997Z",
     "iopub.status.busy": "2023-04-20T20:32:27.966603Z",
     "iopub.status.idle": "2023-04-20T20:32:27.990814Z",
     "shell.execute_reply": "2023-04-20T20:32:27.989536Z"
    },
    "papermill": {
     "duration": 0.034316,
     "end_time": "2023-04-20T20:32:27.993331",
     "exception": false,
     "start_time": "2023-04-20T20:32:27.959015",
     "status": "completed"
    },
    "tags": []
   },
   "outputs": [
    {
     "data": {
      "text/html": [
       "<div>\n",
       "<style scoped>\n",
       "    .dataframe tbody tr th:only-of-type {\n",
       "        vertical-align: middle;\n",
       "    }\n",
       "\n",
       "    .dataframe tbody tr th {\n",
       "        vertical-align: top;\n",
       "    }\n",
       "\n",
       "    .dataframe thead tr th {\n",
       "        text-align: left;\n",
       "    }\n",
       "\n",
       "    .dataframe thead tr:last-of-type th {\n",
       "        text-align: right;\n",
       "    }\n",
       "</style>\n",
       "<table border=\"1\" class=\"dataframe\">\n",
       "  <thead>\n",
       "    <tr>\n",
       "      <th></th>\n",
       "      <th colspan=\"2\" halign=\"left\">AGE</th>\n",
       "    </tr>\n",
       "    <tr>\n",
       "      <th></th>\n",
       "      <th>min</th>\n",
       "      <th>max</th>\n",
       "    </tr>\n",
       "    <tr>\n",
       "      <th>AGE_CAT</th>\n",
       "      <th></th>\n",
       "      <th></th>\n",
       "    </tr>\n",
       "  </thead>\n",
       "  <tbody>\n",
       "    <tr>\n",
       "      <th>0_18</th>\n",
       "      <td>15</td>\n",
       "      <td>18</td>\n",
       "    </tr>\n",
       "    <tr>\n",
       "      <th>19_23</th>\n",
       "      <td>19</td>\n",
       "      <td>23</td>\n",
       "    </tr>\n",
       "    <tr>\n",
       "      <th>24_30</th>\n",
       "      <td>24</td>\n",
       "      <td>30</td>\n",
       "    </tr>\n",
       "    <tr>\n",
       "      <th>31_40</th>\n",
       "      <td>31</td>\n",
       "      <td>40</td>\n",
       "    </tr>\n",
       "    <tr>\n",
       "      <th>41_66</th>\n",
       "      <td>41</td>\n",
       "      <td>66</td>\n",
       "    </tr>\n",
       "  </tbody>\n",
       "</table>\n",
       "</div>"
      ],
      "text/plain": [
       "        AGE    \n",
       "        min max\n",
       "AGE_CAT        \n",
       "0_18     15  18\n",
       "19_23    19  23\n",
       "24_30    24  30\n",
       "31_40    31  40\n",
       "41_66    41  66"
      ]
     },
     "execution_count": 9,
     "metadata": {},
     "output_type": "execute_result"
    }
   ],
   "source": [
    "# To create customer segments first the \"AGE\" variable is categorized into age intervals.\n",
    "\n",
    "# The values to be splitted from\n",
    "bins = [agg_df[\"AGE\"].min(), 18, 23, 30, 40, agg_df[\"AGE\"].max()]\n",
    "\n",
    "# The category labels\n",
    "labels = ['0_18', '19_23', '24_30', '31_40', '41_' + str(agg_df[\"AGE\"].max())]\n",
    "\n",
    "agg_df[\"AGE_CAT\"] = pd.cut(agg_df[\"AGE\"], bins=bins, labels=labels, include_lowest=True)\n",
    "\n",
    "# To check the labeling consistency following code can be implemented\n",
    "agg_df.groupby(\"AGE_CAT\").agg({\"AGE\":['min','max']})"
   ]
  },
  {
   "cell_type": "code",
   "execution_count": 10,
   "id": "c6cbfd90",
   "metadata": {
    "execution": {
     "iopub.execute_input": "2023-04-20T20:32:28.008195Z",
     "iopub.status.busy": "2023-04-20T20:32:28.007385Z",
     "iopub.status.idle": "2023-04-20T20:32:28.026313Z",
     "shell.execute_reply": "2023-04-20T20:32:28.025048Z"
    },
    "papermill": {
     "duration": 0.029238,
     "end_time": "2023-04-20T20:32:28.028694",
     "exception": false,
     "start_time": "2023-04-20T20:32:27.999456",
     "status": "completed"
    },
    "tags": []
   },
   "outputs": [
    {
     "data": {
      "text/html": [
       "<div>\n",
       "<style scoped>\n",
       "    .dataframe tbody tr th:only-of-type {\n",
       "        vertical-align: middle;\n",
       "    }\n",
       "\n",
       "    .dataframe tbody tr th {\n",
       "        vertical-align: top;\n",
       "    }\n",
       "\n",
       "    .dataframe thead th {\n",
       "        text-align: right;\n",
       "    }\n",
       "</style>\n",
       "<table border=\"1\" class=\"dataframe\">\n",
       "  <thead>\n",
       "    <tr style=\"text-align: right;\">\n",
       "      <th></th>\n",
       "      <th>CUSTOMER_LEVEL_BASED</th>\n",
       "      <th>PRICE</th>\n",
       "    </tr>\n",
       "  </thead>\n",
       "  <tbody>\n",
       "    <tr>\n",
       "      <th>0</th>\n",
       "      <td>BRA_ANDROID_FEMALE_0_18</td>\n",
       "      <td>35.645303</td>\n",
       "    </tr>\n",
       "    <tr>\n",
       "      <th>1</th>\n",
       "      <td>BRA_ANDROID_FEMALE_19_23</td>\n",
       "      <td>34.077340</td>\n",
       "    </tr>\n",
       "    <tr>\n",
       "      <th>2</th>\n",
       "      <td>BRA_ANDROID_FEMALE_24_30</td>\n",
       "      <td>33.863946</td>\n",
       "    </tr>\n",
       "    <tr>\n",
       "      <th>3</th>\n",
       "      <td>BRA_ANDROID_FEMALE_31_40</td>\n",
       "      <td>34.898326</td>\n",
       "    </tr>\n",
       "    <tr>\n",
       "      <th>4</th>\n",
       "      <td>BRA_ANDROID_FEMALE_41_66</td>\n",
       "      <td>36.737179</td>\n",
       "    </tr>\n",
       "  </tbody>\n",
       "</table>\n",
       "</div>"
      ],
      "text/plain": [
       "       CUSTOMER_LEVEL_BASED      PRICE\n",
       "0   BRA_ANDROID_FEMALE_0_18  35.645303\n",
       "1  BRA_ANDROID_FEMALE_19_23  34.077340\n",
       "2  BRA_ANDROID_FEMALE_24_30  33.863946\n",
       "3  BRA_ANDROID_FEMALE_31_40  34.898326\n",
       "4  BRA_ANDROID_FEMALE_41_66  36.737179"
      ]
     },
     "execution_count": 10,
     "metadata": {},
     "output_type": "execute_result"
    }
   ],
   "source": [
    "# To define the new level based customers(persona) variable 'CUSTOMER_LEVEL_BASED'\n",
    "agg_df['CUSTOMER_LEVEL_BASED'] = [(val[0] + \"_\" + val[1] + \"_\" + val[2] + \"_\" + val[5]).upper() for val in agg_df.values]\n",
    "\n",
    "# The new variable values are not singularized, so it should be singularized\n",
    "agg_df = agg_df.groupby(\"CUSTOMER_LEVEL_BASED\").agg({\"PRICE\":'mean'})\n",
    "\n",
    "# The index are lost so it is resetted.\n",
    "agg_df.reset_index(inplace=True)\n",
    "\n",
    "agg_df.head()"
   ]
  },
  {
   "cell_type": "code",
   "execution_count": 11,
   "id": "11212199",
   "metadata": {
    "execution": {
     "iopub.execute_input": "2023-04-20T20:32:28.042502Z",
     "iopub.status.busy": "2023-04-20T20:32:28.042050Z",
     "iopub.status.idle": "2023-04-20T20:32:28.059146Z",
     "shell.execute_reply": "2023-04-20T20:32:28.058015Z"
    },
    "papermill": {
     "duration": 0.026652,
     "end_time": "2023-04-20T20:32:28.061392",
     "exception": false,
     "start_time": "2023-04-20T20:32:28.034740",
     "status": "completed"
    },
    "tags": []
   },
   "outputs": [
    {
     "data": {
      "text/html": [
       "<div>\n",
       "<style scoped>\n",
       "    .dataframe tbody tr th:only-of-type {\n",
       "        vertical-align: middle;\n",
       "    }\n",
       "\n",
       "    .dataframe tbody tr th {\n",
       "        vertical-align: top;\n",
       "    }\n",
       "\n",
       "    .dataframe thead th {\n",
       "        text-align: right;\n",
       "    }\n",
       "</style>\n",
       "<table border=\"1\" class=\"dataframe\">\n",
       "  <thead>\n",
       "    <tr style=\"text-align: right;\">\n",
       "      <th></th>\n",
       "      <th>CUSTOMER_LEVEL_BASED</th>\n",
       "      <th>PRICE</th>\n",
       "      <th>SEGMENT</th>\n",
       "    </tr>\n",
       "  </thead>\n",
       "  <tbody>\n",
       "    <tr>\n",
       "      <th>0</th>\n",
       "      <td>BRA_ANDROID_FEMALE_0_18</td>\n",
       "      <td>35.645303</td>\n",
       "      <td>B</td>\n",
       "    </tr>\n",
       "    <tr>\n",
       "      <th>1</th>\n",
       "      <td>BRA_ANDROID_FEMALE_19_23</td>\n",
       "      <td>34.077340</td>\n",
       "      <td>C</td>\n",
       "    </tr>\n",
       "    <tr>\n",
       "      <th>2</th>\n",
       "      <td>BRA_ANDROID_FEMALE_24_30</td>\n",
       "      <td>33.863946</td>\n",
       "      <td>C</td>\n",
       "    </tr>\n",
       "    <tr>\n",
       "      <th>3</th>\n",
       "      <td>BRA_ANDROID_FEMALE_31_40</td>\n",
       "      <td>34.898326</td>\n",
       "      <td>B</td>\n",
       "    </tr>\n",
       "    <tr>\n",
       "      <th>4</th>\n",
       "      <td>BRA_ANDROID_FEMALE_41_66</td>\n",
       "      <td>36.737179</td>\n",
       "      <td>A</td>\n",
       "    </tr>\n",
       "  </tbody>\n",
       "</table>\n",
       "</div>"
      ],
      "text/plain": [
       "       CUSTOMER_LEVEL_BASED      PRICE SEGMENT\n",
       "0   BRA_ANDROID_FEMALE_0_18  35.645303       B\n",
       "1  BRA_ANDROID_FEMALE_19_23  34.077340       C\n",
       "2  BRA_ANDROID_FEMALE_24_30  33.863946       C\n",
       "3  BRA_ANDROID_FEMALE_31_40  34.898326       B\n",
       "4  BRA_ANDROID_FEMALE_41_66  36.737179       A"
      ]
     },
     "execution_count": 11,
     "metadata": {},
     "output_type": "execute_result"
    }
   ],
   "source": [
    "# New customer variable is grouped into 4 segments and assigned to a new variable called \"SEGMENT\"\n",
    "agg_df[\"SEGMENT\"] = pd.qcut(agg_df[\"PRICE\"], 4, labels= [\"D\",\"C\",\"B\",\"A\"])\n",
    "\n",
    "agg_df.head()"
   ]
  },
  {
   "cell_type": "code",
   "execution_count": 12,
   "id": "238af3fe",
   "metadata": {
    "execution": {
     "iopub.execute_input": "2023-04-20T20:32:28.075580Z",
     "iopub.status.busy": "2023-04-20T20:32:28.075155Z",
     "iopub.status.idle": "2023-04-20T20:32:28.094596Z",
     "shell.execute_reply": "2023-04-20T20:32:28.093288Z"
    },
    "papermill": {
     "duration": 0.02933,
     "end_time": "2023-04-20T20:32:28.097076",
     "exception": false,
     "start_time": "2023-04-20T20:32:28.067746",
     "status": "completed"
    },
    "tags": []
   },
   "outputs": [
    {
     "data": {
      "text/html": [
       "<div>\n",
       "<style scoped>\n",
       "    .dataframe tbody tr th:only-of-type {\n",
       "        vertical-align: middle;\n",
       "    }\n",
       "\n",
       "    .dataframe tbody tr th {\n",
       "        vertical-align: top;\n",
       "    }\n",
       "\n",
       "    .dataframe thead tr th {\n",
       "        text-align: left;\n",
       "    }\n",
       "\n",
       "    .dataframe thead tr:last-of-type th {\n",
       "        text-align: right;\n",
       "    }\n",
       "</style>\n",
       "<table border=\"1\" class=\"dataframe\">\n",
       "  <thead>\n",
       "    <tr>\n",
       "      <th></th>\n",
       "      <th colspan=\"3\" halign=\"left\">PRICE</th>\n",
       "    </tr>\n",
       "    <tr>\n",
       "      <th></th>\n",
       "      <th>mean</th>\n",
       "      <th>max</th>\n",
       "      <th>sum</th>\n",
       "    </tr>\n",
       "    <tr>\n",
       "      <th>SEGMENT</th>\n",
       "      <th></th>\n",
       "      <th></th>\n",
       "      <th></th>\n",
       "    </tr>\n",
       "  </thead>\n",
       "  <tbody>\n",
       "    <tr>\n",
       "      <th>D</th>\n",
       "      <td>29.206780</td>\n",
       "      <td>32.333333</td>\n",
       "      <td>817.789833</td>\n",
       "    </tr>\n",
       "    <tr>\n",
       "      <th>C</th>\n",
       "      <td>33.509674</td>\n",
       "      <td>34.077340</td>\n",
       "      <td>904.761209</td>\n",
       "    </tr>\n",
       "    <tr>\n",
       "      <th>B</th>\n",
       "      <td>34.999645</td>\n",
       "      <td>36.000000</td>\n",
       "      <td>944.990411</td>\n",
       "    </tr>\n",
       "    <tr>\n",
       "      <th>A</th>\n",
       "      <td>38.691234</td>\n",
       "      <td>45.428571</td>\n",
       "      <td>1044.663328</td>\n",
       "    </tr>\n",
       "  </tbody>\n",
       "</table>\n",
       "</div>"
      ],
      "text/plain": [
       "             PRICE                        \n",
       "              mean        max          sum\n",
       "SEGMENT                                   \n",
       "D        29.206780  32.333333   817.789833\n",
       "C        33.509674  34.077340   904.761209\n",
       "B        34.999645  36.000000   944.990411\n",
       "A        38.691234  45.428571  1044.663328"
      ]
     },
     "execution_count": 12,
     "metadata": {},
     "output_type": "execute_result"
    }
   ],
   "source": [
    "# The segments are presented by their mean, max, sum values \n",
    "agg_df.groupby(\"SEGMENT\").agg({\"PRICE\":[\"mean\",\"max\",\"sum\"]})"
   ]
  },
  {
   "cell_type": "code",
   "execution_count": 13,
   "id": "db4e9647",
   "metadata": {
    "execution": {
     "iopub.execute_input": "2023-04-20T20:32:28.113362Z",
     "iopub.status.busy": "2023-04-20T20:32:28.112902Z",
     "iopub.status.idle": "2023-04-20T20:32:28.129447Z",
     "shell.execute_reply": "2023-04-20T20:32:28.128017Z"
    },
    "papermill": {
     "duration": 0.026895,
     "end_time": "2023-04-20T20:32:28.131969",
     "exception": false,
     "start_time": "2023-04-20T20:32:28.105074",
     "status": "completed"
    },
    "tags": []
   },
   "outputs": [
    {
     "name": "stdout",
     "output_type": "stream",
     "text": [
      "        CUSTOMER_LEVEL_BASED      PRICE SEGMENT\n",
      "72  TUR_ANDROID_FEMALE_31_40  41.833333       A\n",
      "    CUSTOMER_LEVEL_BASED      PRICE SEGMENT\n",
      "63  FRA_IOS_FEMALE_31_40  32.818182       C\n"
     ]
    }
   ],
   "source": [
    "\n",
    "# profit_predictor function is written to automate the process of foreseeing the profit on a new customer by using their country, device, sex and age data\n",
    "\n",
    "\n",
    "def profit_predictor(country, device, sex, age):\n",
    "    if age <= 18:\n",
    "        age_interval = \"0_18\"\n",
    "    elif age > 18 and age <= 23:\n",
    "        age_interval = \"19_23\"\n",
    "    elif age > 23 and age <= 30:\n",
    "        age_interval = \"24_30\"\n",
    "    elif age > 30 and age <= 40:\n",
    "        age_interval = \"31_40\"\n",
    "    elif age > 40 and age <= 66:\n",
    "        age_interval = \"41_66\"\n",
    "\n",
    "    print (agg_df[agg_df[\"CUSTOMER_LEVEL_BASED\"] == (country + \"_\" + device + \"_\" + sex + \"_\" + age_interval).upper()])\n",
    "\n",
    "# What is the segment of a 33 year old Turkish woman who uses Android and how much profit the company gains from her on average?\n",
    "profit_predictor(\"tur\",\"android\",\"female\",33)\n",
    "\n",
    "# What is the segment of a 35 year old French woman who uses iOS and how much profit the company gains from her on average?\n",
    "profit_predictor(\"fra\",\"ios\",\"female\",35)"
   ]
  }
 ],
 "metadata": {
  "kernelspec": {
   "display_name": "Python 3",
   "language": "python",
   "name": "python3"
  },
  "language_info": {
   "codemirror_mode": {
    "name": "ipython",
    "version": 3
   },
   "file_extension": ".py",
   "mimetype": "text/x-python",
   "name": "python",
   "nbconvert_exporter": "python",
   "pygments_lexer": "ipython3",
   "version": "3.7.12"
  },
  "papermill": {
   "default_parameters": {},
   "duration": 14.251907,
   "end_time": "2023-04-20T20:32:29.061904",
   "environment_variables": {},
   "exception": null,
   "input_path": "__notebook__.ipynb",
   "output_path": "__notebook__.ipynb",
   "parameters": {},
   "start_time": "2023-04-20T20:32:14.809997",
   "version": "2.3.4"
  }
 },
 "nbformat": 4,
 "nbformat_minor": 5
}
